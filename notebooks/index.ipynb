{
 "cells": [
  {
   "cell_type": "markdown",
   "metadata": {},
   "source": [
    "# Notebooks for Open Data Science\n",
    "\n",
    "[Pandas, Python and Jupyter]($host/Pandas and Python.ipynb) This notebook provides an introduction to the notebook and to the `pandas` library for 'data analysis'.\n",
    "* [An interface to Google Spreadsheets](./pods/Google Docs Interface.ipynb) This notebook demonstrates `pods.google` which provides a simple interface between `pandas` and Google spreadsheets."
   ]
  },
  {
   "cell_type": "markdown",
   "metadata": {},
   "source": [
    "[Neil Lawrence](http://inverseprobability.com)"
   ]
  },
  {
   "cell_type": "markdown",
   "metadata": {},
   "source": [
    "[Pandas, Python and Jupyter](./Pandas and Python.ipynb)"
   ]
  },
  {
   "cell_type": "code",
   "execution_count": null,
   "metadata": {},
   "outputs": [],
   "source": []
  }
 ],
 "metadata": {
  "kernelspec": {
   "display_name": "Python 3",
   "language": "python",
   "name": "python3"
  },
  "language_info": {
   "codemirror_mode": {
    "name": "ipython",
    "version": 3
   },
   "file_extension": ".py",
   "mimetype": "text/x-python",
   "name": "python",
   "nbconvert_exporter": "python",
   "pygments_lexer": "ipython3",
   "version": "3.6.10"
  }
 },
 "nbformat": 4,
 "nbformat_minor": 1
}
