{
 "cells": [
  {
   "cell_type": "markdown",
   "metadata": {},
   "source": [
    "Adding a Data Set to `pods`\n",
    "===========================\n",
    "\n",
    "### [Neil D. Lawrence](http://inverseprobability.com), University of\n",
    "\n",
    "Cambridge\n",
    "\n",
    "### 2014-05-28"
   ]
  },
  {
   "cell_type": "markdown",
   "metadata": {},
   "source": []
  },
  {
   "cell_type": "markdown",
   "metadata": {},
   "source": [
    "$$\n",
    "$$"
   ]
  },
  {
   "cell_type": "markdown",
   "metadata": {},
   "source": [
    "\\\\subsection{Step 1: Editing `data_resources.json`}\n",
    "\n",
    "    \"boston_housing\": {\n",
    "        \"citation\": \"Harrison, D. and Rubinfeld, D.L. 'Hedonic prices and the demand for clean air', J. Environ. Economics & Management, vol.5, 81-102, 1978.\",\n",
    "        \"details\": \"The Boston Housing data relates house values in Boston to a range of input variables.\",\n",
    "        \"files\": [\n",
    "            [\n",
    "                \"Index\",\n",
    "                \"housing.data\",\n",
    "                \"housing.names\"\n",
    "            ]\n",
    "        ],\n",
    "        \"license\": null,\n",
    "        \"size\": 51276,\n",
    "        \"urls\": [\n",
    "            \"http://archive.ics.uci.edu/ml/machine-learning-databases/housing/\"\n",
    "        ]\n",
    "    },"
   ]
  }
 ],
 "nbformat": 4,
 "nbformat_minor": 5,
 "metadata": {}
}
