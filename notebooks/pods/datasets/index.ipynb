{
 "cells": [
  {
   "cell_type": "markdown",
   "metadata": {},
   "source": [
    "Description of Datasets Available in `pods`\n",
    "===========================================\n",
    "\n",
    "### [Neil D. Lawrence](http://inverseprobability.com), University of\n",
    "\n",
    "Cambridge\n",
    "\n",
    "### 2020-11-19"
   ]
  },
  {
   "cell_type": "markdown",
   "metadata": {},
   "source": []
  },
  {
   "cell_type": "markdown",
   "metadata": {},
   "source": [
    "$$\n",
    "$$"
   ]
  },
  {
   "cell_type": "markdown",
   "metadata": {},
   "source": [
    "-   [`pods.datasets.google_trends()`](./google-trends.ipynb) download\n",
    "    data from Google trends. Based on an original\n",
    "    [notebook](https://github.com/sahuguet/notebooks/blob/master/GoogleTrends%20meet%20Notebook.ipynb)\n",
    "    by [sahuguet](https://github.com/sahuguet).\n",
    "\n",
    "-   [`pods.datasets.airline_delay()`](./airline-delay.ipynb) airline\n",
    "    delay data set used for in Hensman et al. (n.d.).\n",
    "-   [`pods.datasets.mauna_loa()`](./mauna-loa.ipynb) download the latest\n",
    "    version of the Mauna Loa data set. This is data giving carbon\n",
    "    dioxide concentrations from the Mauna Loa observatory in Hawaii.\n",
    "\n",
    "-   [`pods.datasets.spellman_yeast()`](./spellman-yeast.ipynb) download\n",
    "    the yeast cell cycle gene expression data set from Spellman et\n",
    "    al. (1998).\n",
    "-   [`pods.datasets.lee_yeast()`](./lee-yeast.ipynb) download the yeast\n",
    "    connectivity data from Lee et al. (2002).\n",
    "-   [`pods.datasets.ceres()`](./ceres.ipynb) celestial observations of\n",
    "    the dwarf planet Ceres by Giuseppe Piazzi.\n",
    "-   [`pods.datasets.della_gatta_gene()`](./della-gatta-gene.ipynb) gene\n",
    "    expression data from papyer by Della Gatta et al. (2008).\n",
    "\n",
    "-   [Adding a Data Set](./adding-data-set.ipynb) Overview of how to add\n",
    "    a new data set to pods."
   ]
  },
  {
   "cell_type": "markdown",
   "metadata": {},
   "source": [
    "Della Gatta, G., Bansal, M., Ambesi-Impiombato, A., Antonini, D.,\n",
    "Missero, C., Bernardo, D. di, 2008. Direct targets of the trp63\n",
    "transcription factor revealed by a combination of gene expression\n",
    "profiling and reverse engineering. Genome Research 18, 939–948.\n",
    "<https://doi.org/10.1101/gr.073601.107>\n",
    "\n",
    "Hensman, J., Fusi, N., Lawrence, N.D., n.d. Gaussian processes for big\n",
    "data, in:.\n",
    "\n",
    "Lee, T.I., Rinaldi, N.J., Robert, F., Odom, D.T., Bar-Joseph, Z.,\n",
    "Gerber, G.K., Hannett, N.M., Harbison, C.T., Thompson, C.M., Simon, I.,\n",
    "Zeitlinger, J., Jennings, E.G., Murray, H.L., Gordon, D.B., Ren, B.,\n",
    "Wyrick, J.J., Tagne, J.-B., Volkert, T.L., Fraenkel, E., Gifford, D.K.,\n",
    "Young, R.A., 2002. Transcriptional regulatory networks in Saccharomyces\n",
    "cerevisiae. Science 298, 799–804.\n",
    "\n",
    "Spellman, P.T., Sherlock, G., Zhang, M.Q., Iyer, V.R., Anders, K.,\n",
    "Eisen, M.B., Brown, P.O., Botstein, D., Futcher, B., 1998. Comprehensive\n",
    "identification of cell cycle-regulated genes of the yeast\n",
    "*Saccharomyces* *cerevisiae* by microarray hybridization. Molecular\n",
    "Biology of the Cell 9, 3273–3297."
   ]
  }
 ],
 "metadata": {
  "kernelspec": {
   "display_name": "Python 3",
   "language": "python",
   "name": "python3"
  },
  "language_info": {
   "codemirror_mode": {
    "name": "ipython",
    "version": 3
   },
   "file_extension": ".py",
   "mimetype": "text/x-python",
   "name": "python",
   "nbconvert_exporter": "python",
   "pygments_lexer": "ipython3",
   "version": "3.6.10"
  }
 },
 "nbformat": 4,
 "nbformat_minor": 5
}
