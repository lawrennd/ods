{
 "cells": [
  {
   "cell_type": "markdown",
   "metadata": {},
   "source": [
    "# Datasets: Proceedings of Machine Learning Research Volumes\n",
    "\n",
    "### 5th March 2017\n",
    "\n",
    "### Neil Lawrence\n",
    "\n",
    "This data set collection comes from the rebranding of JMLR W&CP as PMLR. As part of the move of the web we've set it up to be convenient to download the current set of proceedings."
   ]
  },
  {
   "cell_type": "code",
   "execution_count": 1,
   "metadata": {},
   "outputs": [],
   "source": [
    "import pods\n",
    "import matplotlib.pyplot as plt\n",
    "%matplotlib inline"
   ]
  },
  {
   "cell_type": "code",
<<<<<<< HEAD:notebooks/pods/datasets/pmlr-data.ipynb
   "execution_count": 2,
=======
   "execution_count": 8,
>>>>>>> 7ab39f24ee21206465f1147541a8851db04d68d0:notebooks/pods/datasets/pmlr_data.ipynb
   "metadata": {},
   "outputs": [],
   "source": [
    "# calling without arguments downloads all volumes\n",
    "data = pods.datasets.pmlr?"
   ]
  },
  {
   "cell_type": "code",
<<<<<<< HEAD:notebooks/pods/datasets/pmlr-data.ipynb
   "execution_count": 4,
=======
   "execution_count": 5,
   "metadata": {},
   "outputs": [],
   "source": [
    "data = pods.datasets.pmlr()#(refresh_data=False)"
   ]
  },
  {
   "cell_type": "code",
   "execution_count": 7,
   "metadata": {},
   "outputs": [
    {
     "data": {
      "text/plain": [
       "0       [Cedric Archambeau, Dan Cornford, Manfred Oppe...\n",
       "1                           [Simon Rogers, Mark Girolami]\n",
       "2                            [Tobias Jung, Daniel Polani]\n",
       "3             [Kim S. Pedersen, Marco Loog, Pieter Dorst]\n",
       "4                          [Jarno Vanhatalo, Aki Vehtari]\n",
       "5                           [Marina Meila, Xiaotong Shen]\n",
       "6         [Douglas Aberdeen, Olivier Buffet, Owen Thomas]\n",
       "7       [Sameer Agarwal, Josh Wills, Lawrence Cayton, ...\n",
       "8                               [Amr Ahmed, Eric P. Xing]\n",
       "9                [Yonatan Amit, Ofer Dekel, Yoram Singer]\n",
       "10      [Avleen S. Bijral, Markus Breitenbach, Greg Gr...\n",
       "11      [Edwin V. Bonilla, Felix V. Agakov, Christophe...\n",
       "12                         [Julie Carreau, Yoshua Bengio]\n",
       "13           [Miguel A. Carreira-PerpiÃ±an, Zhengdong Lu]\n",
       "14      [James Cook, Ilya Sutskever, Andriy Mnih, Geof...\n",
       "15                            [Timothee Cour, Jianbo Shi]\n",
       "16                                        [Hal Daume III]\n",
       "17                                [Ricky Der, Daniel Lee]\n",
       "18         [Gregory Druck, Mukund Narasimhan, Paul Viola]\n",
       "19                           [Daniel Eaton, Kevin Murphy]\n",
       "20                                         [Michael Fink]\n",
       "21                    [Peter V. Gehler, Olivier Chapelle]\n",
       "22                       [Amir Globerson, Tommi Jaakkola]\n",
       "23                           [Amir Globerson, Sam Roweis]\n",
       "24                          [Vibhav Gogate, Rina Dechter]\n",
       "25      [Andrew B. Goldberg, Xiaojin Zhu, Stephen Wright]\n",
       "26            [Amit Gruber, Yair Weiss, Michal Rosen-Zvi]\n",
       "27                        [Sudipto Guha, Andrew McGregor]\n",
       "28      [David R. Hardoon, John Shawe-Taylor, Antti Aj...\n",
       "29               [Katherine A. Heller, Zoubin Ghahramani]\n",
       "                              ...                        \n",
       "3899          [Hongyu Yang, Cynthia Rudin, Margo Seltzer]\n",
       "3900                  [Haishan Ye, Luo Luo, Zhihua Zhang]\n",
       "3901                   [Jianbo Ye, James Z. Wang, Jia Li]\n",
       "3902    [Ian En-Hsu Yen, Wei-Cheng Lee, Sung-En Chang,...\n",
       "3903                        [Jaehong Yoon, Sung Ju Hwang]\n",
       "3904       [Manzil Zaheer, Amr Ahmed, Alexander J. Smola]\n",
       "3905    [Manzil Zaheer, Satwik Kottur, Amr Ahmed, José...\n",
       "3906         [Friedemann Zenke, Ben Poole, Surya Ganguli]\n",
       "3907    [Yizhe Zhang, Changyou Chen, Zhe Gan, Ricardo ...\n",
       "3908    [Yizhe Zhang, Zhe Gan, Kai Fan, Zhi Chen, Rica...\n",
       "3909    [Weizhong Zhang, Bin Hong, Wei Liu, Jieping Ye...\n",
       "3910    [Chenzi Zhang, Shuguang Hu, Zhihao Gavin Tang,...\n",
       "3911    [Hantian Zhang, Jerry Li, Kaan Kara, Dan Alist...\n",
       "3912    [Yuchen Zhang, Percy Liang, Martin J. Wainwright]\n",
       "3913    [Wenpeng Zhang, Peilin Zhao, Wenwu Zhu, Steven...\n",
       "3914                           [Teng Zhang, Zhi-Hua Zhou]\n",
       "3915                      [He Zhao, Lan Du, Wray Buntine]\n",
       "3916    [Liang Zhao, Siyu Liao, Yanzhi Wang, Zhe Li, J...\n",
       "3917         [Shengjia Zhao, Jiaming Song, Stefano Ermon]\n",
       "3918    [Mingmin Zhao, Shichao Yue, Dina Katabi, Tommi...\n",
       "3919                         [Shuai Zheng, James T. Kwok]\n",
       "3920    [Shuxin Zheng, Qi Meng, Taifeng Wang, Wei Chen...\n",
       "3921                 [Kai Zheng, Wenlong Mou, Liwei Wang]\n",
       "3922    [Kai Zhong, Zhao Song, Prateek Jain, Peter L. ...\n",
       "3923            [Chaoxu Zhou, Wenbo Gao, Donald Goldfarb]\n",
       "3924                    [Yichi Zhou, Jialian Li, Jun Zhu]\n",
       "3925    [Hao Henry Zhou, Yilin Zhang, Vamsi K. Ithapu,...\n",
       "3926    [Rongda Zhu, Lingxiao Wang, Chengxiang Zhai, Q...\n",
       "3927    [Julian Georg Zilly, Rupesh Kumar Srivastava, ...\n",
       "3928    [Masrour Zoghi, Tomas Tunys, Mohammad Ghavamza...\n",
       "Name: author, Length: 3929, dtype: object"
      ]
     },
     "execution_count": 7,
     "metadata": {},
     "output_type": "execute_result"
    }
   ],
   "source": [
    "[Dan Cornford].isidata['Y'].author"
   ]
  },
  {
   "cell_type": "code",
   "execution_count": 15,
   "metadata": {},
   "outputs": [],
   "source": [
    "df = data['Y']"
   ]
  },
  {
   "cell_type": "code",
   "execution_count": 16,
   "metadata": {},
   "outputs": [
    {
     "ename": "SystemError",
     "evalue": "<built-in method view of numpy.ndarray object at 0x1090e1da0> returned a result with an error set",
     "output_type": "error",
     "traceback": [
      "\u001b[0;31m---------------------------------------------------------------------------\u001b[0m",
      "\u001b[0;31mTypeError\u001b[0m                                 Traceback (most recent call last)",
      "\u001b[0;31mTypeError\u001b[0m: unhashable type: 'list'",
      "\nThe above exception was the direct cause of the following exception:\n",
      "\u001b[0;31mSystemError\u001b[0m                               Traceback (most recent call last)",
      "\u001b[0;32m<ipython-input-16-dd156f7d07b3>\u001b[0m in \u001b[0;36m<module>\u001b[0;34m()\u001b[0m\n\u001b[0;32m----> 1\u001b[0;31m \u001b[0mdf\u001b[0m\u001b[0;34m.\u001b[0m\u001b[0misin\u001b[0m\u001b[0;34m(\u001b[0m\u001b[0;34m{\u001b[0m\u001b[0;34m'author'\u001b[0m\u001b[0;34m:\u001b[0m \u001b[0;34m[\u001b[0m\u001b[0;34m'Dan Cornford'\u001b[0m\u001b[0;34m]\u001b[0m\u001b[0;34m}\u001b[0m\u001b[0;34m)\u001b[0m\u001b[0;34m\u001b[0m\u001b[0m\n\u001b[0m",
      "\u001b[0;32m~/anaconda3/lib/python3.6/site-packages/pandas/core/frame.py\u001b[0m in \u001b[0;36misin\u001b[0;34m(self, values)\u001b[0m\n\u001b[1;32m   5456\u001b[0m             \u001b[0mvalues\u001b[0m \u001b[0;34m=\u001b[0m \u001b[0mdefaultdict\u001b[0m\u001b[0;34m(\u001b[0m\u001b[0mlist\u001b[0m\u001b[0;34m,\u001b[0m \u001b[0mvalues\u001b[0m\u001b[0;34m)\u001b[0m\u001b[0;34m\u001b[0m\u001b[0m\n\u001b[1;32m   5457\u001b[0m             return concat((self.iloc[:, [i]].isin(values[col])\n\u001b[0;32m-> 5458\u001b[0;31m                            for i, col in enumerate(self.columns)), axis=1)\n\u001b[0m\u001b[1;32m   5459\u001b[0m         \u001b[0;32melif\u001b[0m \u001b[0misinstance\u001b[0m\u001b[0;34m(\u001b[0m\u001b[0mvalues\u001b[0m\u001b[0;34m,\u001b[0m \u001b[0mSeries\u001b[0m\u001b[0;34m)\u001b[0m\u001b[0;34m:\u001b[0m\u001b[0;34m\u001b[0m\u001b[0m\n\u001b[1;32m   5460\u001b[0m             \u001b[0;32mif\u001b[0m \u001b[0;32mnot\u001b[0m \u001b[0mvalues\u001b[0m\u001b[0;34m.\u001b[0m\u001b[0mindex\u001b[0m\u001b[0;34m.\u001b[0m\u001b[0mis_unique\u001b[0m\u001b[0;34m:\u001b[0m\u001b[0;34m\u001b[0m\u001b[0m\n",
      "\u001b[0;32m~/anaconda3/lib/python3.6/site-packages/pandas/core/reshape/concat.py\u001b[0m in \u001b[0;36mconcat\u001b[0;34m(objs, axis, join, join_axes, ignore_index, keys, levels, names, verify_integrity, copy)\u001b[0m\n\u001b[1;32m    204\u001b[0m                        \u001b[0mkeys\u001b[0m\u001b[0;34m=\u001b[0m\u001b[0mkeys\u001b[0m\u001b[0;34m,\u001b[0m \u001b[0mlevels\u001b[0m\u001b[0;34m=\u001b[0m\u001b[0mlevels\u001b[0m\u001b[0;34m,\u001b[0m \u001b[0mnames\u001b[0m\u001b[0;34m=\u001b[0m\u001b[0mnames\u001b[0m\u001b[0;34m,\u001b[0m\u001b[0;34m\u001b[0m\u001b[0m\n\u001b[1;32m    205\u001b[0m                        \u001b[0mverify_integrity\u001b[0m\u001b[0;34m=\u001b[0m\u001b[0mverify_integrity\u001b[0m\u001b[0;34m,\u001b[0m\u001b[0;34m\u001b[0m\u001b[0m\n\u001b[0;32m--> 206\u001b[0;31m                        copy=copy)\n\u001b[0m\u001b[1;32m    207\u001b[0m     \u001b[0;32mreturn\u001b[0m \u001b[0mop\u001b[0m\u001b[0;34m.\u001b[0m\u001b[0mget_result\u001b[0m\u001b[0;34m(\u001b[0m\u001b[0;34m)\u001b[0m\u001b[0;34m\u001b[0m\u001b[0m\n\u001b[1;32m    208\u001b[0m \u001b[0;34m\u001b[0m\u001b[0m\n",
      "\u001b[0;32m~/anaconda3/lib/python3.6/site-packages/pandas/core/reshape/concat.py\u001b[0m in \u001b[0;36m__init__\u001b[0;34m(self, objs, axis, join, join_axes, keys, levels, names, ignore_index, verify_integrity, copy)\u001b[0m\n\u001b[1;32m    234\u001b[0m             \u001b[0mobjs\u001b[0m \u001b[0;34m=\u001b[0m \u001b[0;34m[\u001b[0m\u001b[0mobjs\u001b[0m\u001b[0;34m[\u001b[0m\u001b[0mk\u001b[0m\u001b[0;34m]\u001b[0m \u001b[0;32mfor\u001b[0m \u001b[0mk\u001b[0m \u001b[0;32min\u001b[0m \u001b[0mkeys\u001b[0m\u001b[0;34m]\u001b[0m\u001b[0;34m\u001b[0m\u001b[0m\n\u001b[1;32m    235\u001b[0m         \u001b[0;32melse\u001b[0m\u001b[0;34m:\u001b[0m\u001b[0;34m\u001b[0m\u001b[0m\n\u001b[0;32m--> 236\u001b[0;31m             \u001b[0mobjs\u001b[0m \u001b[0;34m=\u001b[0m \u001b[0mlist\u001b[0m\u001b[0;34m(\u001b[0m\u001b[0mobjs\u001b[0m\u001b[0;34m)\u001b[0m\u001b[0;34m\u001b[0m\u001b[0m\n\u001b[0m\u001b[1;32m    237\u001b[0m \u001b[0;34m\u001b[0m\u001b[0m\n\u001b[1;32m    238\u001b[0m         \u001b[0;32mif\u001b[0m \u001b[0mlen\u001b[0m\u001b[0;34m(\u001b[0m\u001b[0mobjs\u001b[0m\u001b[0;34m)\u001b[0m \u001b[0;34m==\u001b[0m \u001b[0;36m0\u001b[0m\u001b[0;34m:\u001b[0m\u001b[0;34m\u001b[0m\u001b[0m\n",
      "\u001b[0;32m~/anaconda3/lib/python3.6/site-packages/pandas/core/frame.py\u001b[0m in \u001b[0;36m<genexpr>\u001b[0;34m(.0)\u001b[0m\n\u001b[1;32m   5456\u001b[0m             \u001b[0mvalues\u001b[0m \u001b[0;34m=\u001b[0m \u001b[0mdefaultdict\u001b[0m\u001b[0;34m(\u001b[0m\u001b[0mlist\u001b[0m\u001b[0;34m,\u001b[0m \u001b[0mvalues\u001b[0m\u001b[0;34m)\u001b[0m\u001b[0;34m\u001b[0m\u001b[0m\n\u001b[1;32m   5457\u001b[0m             return concat((self.iloc[:, [i]].isin(values[col])\n\u001b[0;32m-> 5458\u001b[0;31m                            for i, col in enumerate(self.columns)), axis=1)\n\u001b[0m\u001b[1;32m   5459\u001b[0m         \u001b[0;32melif\u001b[0m \u001b[0misinstance\u001b[0m\u001b[0;34m(\u001b[0m\u001b[0mvalues\u001b[0m\u001b[0;34m,\u001b[0m \u001b[0mSeries\u001b[0m\u001b[0;34m)\u001b[0m\u001b[0;34m:\u001b[0m\u001b[0;34m\u001b[0m\u001b[0m\n\u001b[1;32m   5460\u001b[0m             \u001b[0;32mif\u001b[0m \u001b[0;32mnot\u001b[0m \u001b[0mvalues\u001b[0m\u001b[0;34m.\u001b[0m\u001b[0mindex\u001b[0m\u001b[0;34m.\u001b[0m\u001b[0mis_unique\u001b[0m\u001b[0;34m:\u001b[0m\u001b[0;34m\u001b[0m\u001b[0m\n",
      "\u001b[0;32m~/anaconda3/lib/python3.6/site-packages/pandas/core/frame.py\u001b[0m in \u001b[0;36misin\u001b[0;34m(self, values)\u001b[0m\n\u001b[1;32m   5475\u001b[0m             return DataFrame(\n\u001b[1;32m   5476\u001b[0m                 algorithms.isin(self.values.ravel(),\n\u001b[0;32m-> 5477\u001b[0;31m                                 values).reshape(self.shape), self.index,\n\u001b[0m\u001b[1;32m   5478\u001b[0m                 self.columns)\n\u001b[1;32m   5479\u001b[0m \u001b[0;34m\u001b[0m\u001b[0m\n",
      "\u001b[0;32m~/anaconda3/lib/python3.6/site-packages/pandas/core/algorithms.py\u001b[0m in \u001b[0;36misin\u001b[0;34m(comps, values)\u001b[0m\n\u001b[1;32m    424\u001b[0m             \u001b[0mcomps\u001b[0m \u001b[0;34m=\u001b[0m \u001b[0mcomps\u001b[0m\u001b[0;34m.\u001b[0m\u001b[0mastype\u001b[0m\u001b[0;34m(\u001b[0m\u001b[0mobject\u001b[0m\u001b[0;34m)\u001b[0m\u001b[0;34m\u001b[0m\u001b[0m\n\u001b[1;32m    425\u001b[0m \u001b[0;34m\u001b[0m\u001b[0m\n\u001b[0;32m--> 426\u001b[0;31m     \u001b[0;32mreturn\u001b[0m \u001b[0mf\u001b[0m\u001b[0;34m(\u001b[0m\u001b[0mcomps\u001b[0m\u001b[0;34m,\u001b[0m \u001b[0mvalues\u001b[0m\u001b[0;34m)\u001b[0m\u001b[0;34m\u001b[0m\u001b[0m\n\u001b[0m\u001b[1;32m    427\u001b[0m \u001b[0;34m\u001b[0m\u001b[0m\n\u001b[1;32m    428\u001b[0m \u001b[0;34m\u001b[0m\u001b[0m\n",
      "\u001b[0;32m~/anaconda3/lib/python3.6/site-packages/pandas/core/algorithms.py\u001b[0m in \u001b[0;36m<lambda>\u001b[0;34m(x, y)\u001b[0m\n\u001b[1;32m    402\u001b[0m     \u001b[0;31m# work-around for numpy < 1.8 and comparisions on py3\u001b[0m\u001b[0;34m\u001b[0m\u001b[0;34m\u001b[0m\u001b[0m\n\u001b[1;32m    403\u001b[0m     \u001b[0;31m# faster for larger cases to use np.in1d\u001b[0m\u001b[0;34m\u001b[0m\u001b[0;34m\u001b[0m\u001b[0m\n\u001b[0;32m--> 404\u001b[0;31m     \u001b[0mf\u001b[0m \u001b[0;34m=\u001b[0m \u001b[0;32mlambda\u001b[0m \u001b[0mx\u001b[0m\u001b[0;34m,\u001b[0m \u001b[0my\u001b[0m\u001b[0;34m:\u001b[0m \u001b[0mhtable\u001b[0m\u001b[0;34m.\u001b[0m\u001b[0mismember_object\u001b[0m\u001b[0;34m(\u001b[0m\u001b[0mx\u001b[0m\u001b[0;34m,\u001b[0m \u001b[0mvalues\u001b[0m\u001b[0;34m)\u001b[0m\u001b[0;34m\u001b[0m\u001b[0m\n\u001b[0m\u001b[1;32m    405\u001b[0m     \u001b[0;32mif\u001b[0m \u001b[0;34m(\u001b[0m\u001b[0m_np_version_under1p8\u001b[0m \u001b[0;32mand\u001b[0m \u001b[0mcompat\u001b[0m\u001b[0;34m.\u001b[0m\u001b[0mPY3\u001b[0m\u001b[0;34m)\u001b[0m \u001b[0;32mor\u001b[0m \u001b[0mlen\u001b[0m\u001b[0;34m(\u001b[0m\u001b[0mcomps\u001b[0m\u001b[0;34m)\u001b[0m \u001b[0;34m>\u001b[0m \u001b[0;36m1000000\u001b[0m\u001b[0;34m:\u001b[0m\u001b[0;34m\u001b[0m\u001b[0m\n\u001b[1;32m    406\u001b[0m         \u001b[0mf\u001b[0m \u001b[0;34m=\u001b[0m \u001b[0;32mlambda\u001b[0m \u001b[0mx\u001b[0m\u001b[0;34m,\u001b[0m \u001b[0my\u001b[0m\u001b[0;34m:\u001b[0m \u001b[0mnp\u001b[0m\u001b[0;34m.\u001b[0m\u001b[0min1d\u001b[0m\u001b[0;34m(\u001b[0m\u001b[0mx\u001b[0m\u001b[0;34m,\u001b[0m \u001b[0my\u001b[0m\u001b[0;34m)\u001b[0m\u001b[0;34m\u001b[0m\u001b[0m\n",
      "\u001b[0;32mpandas/_libs/hashtable_func_helper.pxi\u001b[0m in \u001b[0;36mpandas._libs.hashtable.ismember_object\u001b[0;34m()\u001b[0m\n",
      "\u001b[0;31mSystemError\u001b[0m: <built-in method view of numpy.ndarray object at 0x1090e1da0> returned a result with an error set"
     ]
    }
   ],
   "source": [
    "df.isin({'author': ['Dan Cornford']})"
   ]
  },
  {
   "cell_type": "code",
   "execution_count": 13,
   "metadata": {},
   "outputs": [],
   "source": [
    "import pandas as pd"
   ]
  },
  {
   "cell_type": "code",
   "execution_count": 14,
>>>>>>> 7ab39f24ee21206465f1147541a8851db04d68d0:notebooks/pods/datasets/pmlr_data.ipynb
   "metadata": {},
   "outputs": [
    {
     "data": {
      "text/html": [
       "<div>\n",
       "<style>\n",
       "    .dataframe thead tr:only-child th {\n",
       "        text-align: right;\n",
       "    }\n",
       "\n",
       "    .dataframe thead th {\n",
       "        text-align: left;\n",
       "    }\n",
       "\n",
       "    .dataframe tbody tr th {\n",
       "        vertical-align: top;\n",
       "    }\n",
       "</style>\n",
       "<table border=\"1\" class=\"dataframe\">\n",
       "  <thead>\n",
       "    <tr style=\"text-align: right;\">\n",
       "      <th></th>\n",
       "      <th>A</th>\n",
       "      <th>B</th>\n",
       "    </tr>\n",
       "  </thead>\n",
       "  <tbody>\n",
       "    <tr>\n",
       "      <th>0</th>\n",
       "      <td>True</td>\n",
       "      <td>False</td>\n",
       "    </tr>\n",
       "    <tr>\n",
       "      <th>1</th>\n",
       "      <td>False</td>\n",
       "      <td>True</td>\n",
       "    </tr>\n",
       "    <tr>\n",
       "      <th>2</th>\n",
       "      <td>True</td>\n",
       "      <td>True</td>\n",
       "    </tr>\n",
       "  </tbody>\n",
       "</table>\n",
       "</div>"
      ],
      "text/plain": [
       "       A      B\n",
       "0   True  False\n",
       "1  False   True\n",
       "2   True   True"
      ]
     },
     "execution_count": 14,
     "metadata": {},
     "output_type": "execute_result"
    }
   ],
   "source": [
    "df2 = pd.DataFrame({'A': [1, 2, 3], 'B': [1, 4, 7]})\n",
    "df2.isin({'A': [1, 3], 'B': [4, 7, 12]})"
   ]
  },
  {
   "cell_type": "code",
   "execution_count": 19,
   "metadata": {},
   "outputs": [
    {
     "data": {
      "text/plain": [
       "0      Avleen S. Bijral\n",
       "1    Markus Breitenbach\n",
       "2           Greg Grudic\n",
       "dtype: object"
      ]
     },
     "execution_count": 19,
     "metadata": {},
     "output_type": "execute_result"
    }
   ],
   "source": [
    "pd.Series(df.author[10])"
   ]
  },
  {
   "cell_type": "code",
   "execution_count": null,
   "metadata": {},
   "outputs": [],
   "source": []
  }
 ],
 "metadata": {
  "anaconda-cloud": {},
  "kernelspec": {
   "display_name": "Python 3",
   "language": "python",
   "name": "python3"
  },
  "language_info": {
   "codemirror_mode": {
    "name": "ipython",
    "version": 3
   },
   "file_extension": ".py",
   "mimetype": "text/x-python",
   "name": "python",
   "nbconvert_exporter": "python",
   "pygments_lexer": "ipython3",
<<<<<<< HEAD:notebooks/pods/datasets/pmlr-data.ipynb
   "version": "3.6.10"
=======
   "version": "3.6.3"
>>>>>>> 7ab39f24ee21206465f1147541a8851db04d68d0:notebooks/pods/datasets/pmlr_data.ipynb
  }
 },
 "nbformat": 4,
 "nbformat_minor": 1
}
